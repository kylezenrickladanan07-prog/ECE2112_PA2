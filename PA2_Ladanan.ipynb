{
 "cells": [
  {
   "cell_type": "code",
   "execution_count": 1,
   "id": "e4e94f1e-2ef8-47cb-9c63-30715c156bd0",
   "metadata": {},
   "outputs": [],
   "source": [
    "import numpy as np"
   ]
  },
  {
   "cell_type": "code",
   "execution_count": 9,
   "id": "37b01cf7-dba2-453d-8a4e-8e89693d4310",
   "metadata": {},
   "outputs": [
    {
     "name": "stdout",
     "output_type": "stream",
     "text": [
      "[[ 1.26793827  0.42717441 -1.7215295  -0.18352278 -0.60224866]\n",
      " [ 0.68491049  1.61266095  1.05607218  1.6119995  -0.88023778]\n",
      " [-1.0775551  -1.85939689  0.60483001  0.25310663 -0.14600764]\n",
      " [-1.20843784  0.14908656 -0.46947158  1.61024671 -0.59852694]\n",
      " [-0.52374409 -0.347465    0.67938685 -1.07888076  0.739612  ]]\n"
     ]
    }
   ],
   "source": [
    "#Problem 1: Normalization Problem\n",
    "\n",
    "#Initialization\n",
    "X = np.random.random((5,5))\n",
    "\n",
    "#Creating a function defining normalization\n",
    "def normalize(x): #using a function simplify things for me\n",
    "    z = (x-x.mean())/x.std() #Using the formula given in the experiment\n",
    "    np.save('X_normalized.npy', z) #Saving file \n",
    "    print(np.load('X_normalized.npy')) #Print using the saved file\n",
    "\n",
    "normalize(X) #Output check"
   ]
  },
  {
   "cell_type": "code",
   "execution_count": 10,
   "id": "87157217-2b5f-4c65-8eb0-fcfcc8353bbc",
   "metadata": {},
   "outputs": [
    {
     "name": "stdout",
     "output_type": "stream",
     "text": [
      "[   9   36   81  144  225  324  441  576  729  900 1089 1296 1521 1764\n",
      " 2025 2304 2601 2916 3249 3600 3969 4356 4761 5184 5625 6084 6561 7056\n",
      " 7569 8100 8649 9216 9801]\n"
     ]
    }
   ],
   "source": [
    "#Problem 2: Divisible by 3 Problem\n",
    "\n",
    "#Initialization\n",
    "A = np.arange(1,101) ** 2 #Create an array of squares\n",
    "A = A.reshape(10,10)#Reshaping to 10x10 per instructions\n",
    "\n",
    "#Using this equation too find values divisible by 3\n",
    "B = A[A%3==0]#Searching for values of A that are divisible by 3 \n",
    "np.save('div_by_3.npy', B)#Saved as .npy file per instructions\n",
    "\n",
    "print(B)#Output check using B"
   ]
  },
  {
   "cell_type": "code",
   "execution_count": null,
   "id": "cdff8edb-8c47-4bbd-9712-a94c8f0b6537",
   "metadata": {},
   "outputs": [],
   "source": []
  }
 ],
 "metadata": {
  "kernelspec": {
   "display_name": "Python 3 (ipykernel)",
   "language": "python",
   "name": "python3"
  },
  "language_info": {
   "codemirror_mode": {
    "name": "ipython",
    "version": 3
   },
   "file_extension": ".py",
   "mimetype": "text/x-python",
   "name": "python",
   "nbconvert_exporter": "python",
   "pygments_lexer": "ipython3",
   "version": "3.13.5"
  }
 },
 "nbformat": 4,
 "nbformat_minor": 5
}
